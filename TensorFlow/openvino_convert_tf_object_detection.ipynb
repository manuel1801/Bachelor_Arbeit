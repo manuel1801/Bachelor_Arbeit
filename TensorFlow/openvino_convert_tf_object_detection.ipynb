{
 "cells": [
  {
   "cell_type": "markdown",
   "metadata": {},
   "source": [
    "# TensorFlow Graph für OpenVino in IR Format konvertieren"
   ]
  },
  {
   "cell_type": "markdown",
   "metadata": {},
   "source": [
    "## Einstellungen"
   ]
  },
  {
   "cell_type": "code",
   "execution_count": null,
   "metadata": {
    "ExecuteTime": {
     "end_time": "2019-02-20T03:16:37.671883Z",
     "start_time": "2019-02-20T03:16:37.658920Z"
    },
    "scrolled": true
   },
   "outputs": [],
   "source": [
    "import tensorflow as tf\n",
    "import os\n",
    "\n",
    "# \n",
    "# workspace_dir = '/home/manuel/Bachelor_Arbeit/TensorFlow/workspace'\n",
    "\n",
    "# pfad zu trainiertem dataset (enthällt trainings output)\n",
    "# zB:\n",
    "dataset_dir = os.path.join('/home/manuel/Bachelor_Arbeit/TensorFlow/workspace/OI_Animals_Augmented_9_3000')\n",
    "\n",
    "# dataset = 'OI_Animals_LessAug_9_3000'\n",
    "\n",
    "# name des trainings output ordners\n",
    "model_output = 'faster_rcnn_inception_v2_coco_2018_01_28_outdropout'\n",
    "\n",
    "# zu exporttierenden checkpoint festlegen:\n",
    "checkpoint = 479766\n",
    "is_faster_rcnn = True\n",
    "is_inception = True\n",
    "\n",
    "batch_size = 1\n",
    "channel = 3\n",
    "\n",
    "if is_faster_rcnn:\n",
    "    img_size = 600\n",
    "    json_config_file = '/opt/intel/openvino/deployment_tools/model_optimizer/extensions/front/tf/faster_rcnn_support_api_v1.14.json'\n",
    "    pipeline = os.path.join(dataset_dir, model_output, 'faster_rcnn_inception_v2_coco.config')\n",
    "else:\n",
    "    img_size = 300\n",
    "    json_config_file = '/opt/intel/openvino/deployment_tools/model_optimizer/extensions/front/tf/ssd_support_api_v1.14.json'\n",
    "    if is_inception:\n",
    "        pipeline = os.path.join(dataset_dir, model_output, 'ssd_inception_v2_coco.config')\n",
    "    else:\n",
    "        pipeline = os.path.join(dataset_dir, model_output, 'ssd_mobilenet_v2_coco.config')\n",
    "\n",
    "    \n",
    "pb_file = os.path.join(dataset_dir, model_output, 'exported/frozen_inference_graph.pb')\n",
    "\n",
    "plugin_device = 'MYRIAD'\n",
    "\n",
    "data_type = 'FP16'\n",
    "\n",
    "input_shape_str = '['+ str(batch_size) +',' + str(img_size) + ',' + str(img_size) + ',' + str(channel) + ']'\n",
    "\n",
    "output_dir = os.path.join(dataset_dir, model_output, 'open_vino')\n",
    "\n",
    "mo_tf_path = '/opt/intel/openvino/deployment_tools/model_optimizer/mo_tf.py'\n"
   ]
  },
  {
   "cell_type": "markdown",
   "metadata": {},
   "source": [
    "## frozen graph exportieren"
   ]
  },
  {
   "cell_type": "code",
   "execution_count": null,
   "metadata": {},
   "outputs": [],
   "source": [
    "checkpoint_str = os.path.join(dataset_dir, model_output, 'model.ckpt-' + str(checkpoint))\n",
    "exported = os.path.join(dataset_dir, model_output, 'exported')\n",
    "\n",
    "!python3 /home/manuel/Bachelor_Arbeit/TensorFlow/models/object_detection/export_inference_graph.py \\\n",
    "    --input_type image_tensor \\\n",
    "    --pipeline_config_path $pipeline \\\n",
    "    --trained_checkpoint_prefix $checkpoint_str \\\n",
    "    --output_directory $exported"
   ]
  },
  {
   "cell_type": "markdown",
   "metadata": {},
   "source": [
    "##  in openvino IR Format konvertieren"
   ]
  },
  {
   "cell_type": "code",
   "execution_count": null,
   "metadata": {},
   "outputs": [],
   "source": [
    "!python3 {mo_tf_path} \\\n",
    "--input_model {pb_file} \\\n",
    "--tensorflow_use_custom_operations_config {json_config_file} \\\n",
    "--input_shape {input_shape_str} \\\n",
    "--data_type {data_type} \\\n",
    "--input image_tensor \\\n",
    "--tensorflow_object_detection_api_pipeline_config {pipeline} \\\n",
    "--output_dir {output_dir}\n"
   ]
  }
 ],
 "metadata": {
  "kernelspec": {
   "display_name": "Python 3",
   "language": "python",
   "name": "python3"
  },
  "language_info": {
   "codemirror_mode": {
    "name": "ipython",
    "version": 3
   },
   "file_extension": ".py",
   "mimetype": "text/x-python",
   "name": "python",
   "nbconvert_exporter": "python",
   "pygments_lexer": "ipython3",
   "version": "3.6.9"
  },
  "toc": {
   "base_numbering": 1,
   "nav_menu": {},
   "number_sections": true,
   "sideBar": true,
   "skip_h1_title": false,
   "title_cell": "Table of Contents",
   "title_sidebar": "Contents",
   "toc_cell": false,
   "toc_position": {
    "height": "calc(100% - 180px)",
    "left": "10px",
    "top": "150px",
    "width": "349px"
   },
   "toc_section_display": true,
   "toc_window_display": false
  }
 },
 "nbformat": 4,
 "nbformat_minor": 2
}
